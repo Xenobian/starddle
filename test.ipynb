{
 "cells": [
  {
   "cell_type": "code",
   "execution_count": 32,
   "metadata": {},
   "outputs": [],
   "source": [
    "from login import login_in_zerodha\n",
    "from zerodha import Zerodha\n",
    "from straddle import Straddle\n",
    "import pandas as pd\n"
   ]
  },
  {
   "cell_type": "code",
   "execution_count": 44,
   "metadata": {},
   "outputs": [],
   "source": [
    "\n",
    "#getting Kite object\n",
    "kiteobj = login_in_zerodha('cjqx8u4zedif6m4i', 'y2q7xt151teakfs1qebnforcmouutekw',\n",
    "                               'CS7249', 'QGe_@7A9',\n",
    "                               '733SF4CUBDJIS7HKRA4LJWGM4HNIH5KB')"
   ]
  },
  {
   "cell_type": "code",
   "execution_count": 18,
   "metadata": {},
   "outputs": [],
   "source": [
    "#create Zerodha class bject\n",
    "zerodha = Zerodha(kiteobj)\n",
    "\n",
    "#creating straddle object \n",
    "straddle_obj = Straddle()\n",
    "\n",
    "#fetch instruments\n",
    "instruments = zerodha.get_instruments()\n",
    "\n",
    "\n",
    "\n",
    "\n",
    "\n"
   ]
  },
  {
   "cell_type": "code",
   "execution_count": 74,
   "metadata": {},
   "outputs": [
    {
     "name": "stdout",
     "output_type": "stream",
     "text": [
      "      instrument_token exchange_token          tradingsymbol       name   \n",
      "2156          10132226          39579  BANKNIFTY2351135000CE  BANKNIFTY  \\\n",
      "2157          10132482          39580  BANKNIFTY2351135000PE  BANKNIFTY   \n",
      "2158          10132738          39581  BANKNIFTY2351135500CE  BANKNIFTY   \n",
      "2159          10132994          39582  BANKNIFTY2351135500PE  BANKNIFTY   \n",
      "2160          10133762          39585  BANKNIFTY2351136000CE  BANKNIFTY   \n",
      "...                ...            ...                    ...        ...   \n",
      "2339          10254082          40055  BANKNIFTY2351148500PE  BANKNIFTY   \n",
      "2340          10254338          40056  BANKNIFTY2351149000CE  BANKNIFTY   \n",
      "2341          10254594          40057  BANKNIFTY2351149000PE  BANKNIFTY   \n",
      "2342          10254850          40058  BANKNIFTY2351149500CE  BANKNIFTY   \n",
      "2343          10255106          40059  BANKNIFTY2351149500PE  BANKNIFTY   \n",
      "\n",
      "      last_price      expiry   strike  tick_size  lot_size instrument_type   \n",
      "2156         0.0  2023-05-11  35000.0       0.05        25              CE  \\\n",
      "2157         0.0  2023-05-11  35000.0       0.05        25              PE   \n",
      "2158         0.0  2023-05-11  35500.0       0.05        25              CE   \n",
      "2159         0.0  2023-05-11  35500.0       0.05        25              PE   \n",
      "2160         0.0  2023-05-11  36000.0       0.05        25              CE   \n",
      "...          ...         ...      ...        ...       ...             ...   \n",
      "2339         0.0  2023-05-11  48500.0       0.05        25              PE   \n",
      "2340         0.0  2023-05-11  49000.0       0.05        25              CE   \n",
      "2341         0.0  2023-05-11  49000.0       0.05        25              PE   \n",
      "2342         0.0  2023-05-11  49500.0       0.05        25              CE   \n",
      "2343         0.0  2023-05-11  49500.0       0.05        25              PE   \n",
      "\n",
      "      segment exchange  \n",
      "2156  NFO-OPT      NFO  \n",
      "2157  NFO-OPT      NFO  \n",
      "2158  NFO-OPT      NFO  \n",
      "2159  NFO-OPT      NFO  \n",
      "2160  NFO-OPT      NFO  \n",
      "...       ...      ...  \n",
      "2339  NFO-OPT      NFO  \n",
      "2340  NFO-OPT      NFO  \n",
      "2341  NFO-OPT      NFO  \n",
      "2342  NFO-OPT      NFO  \n",
      "2343  NFO-OPT      NFO  \n",
      "\n",
      "[188 rows x 12 columns]\n"
     ]
    }
   ],
   "source": [
    "#converting to dataframe\n",
    "df = pd.DataFrame(instruments)\n",
    "#filtering out all non BANK NIFTY options instruments\n",
    "df = df[df['tradingsymbol'].str.contains('BANKNIFTY') & (df['instrument_type'].str.contains('PE') | df['instrument_type'].str.contains('CE'))]\n",
    "#picking up minimum expiry date\n",
    "minimumExpiryDate = min(df['expiry'])\n",
    "#filtering out all non minimum expiry date options\n",
    "df = df[df['expiry'] == minimumExpiryDate]\n",
    "#putting strike value to float\n",
    "df['strike'] = df['strike'].astype('float')\n",
    "print(df)"
   ]
  },
  {
   "cell_type": "code",
   "execution_count": 91,
   "metadata": {},
   "outputs": [
    {
     "name": "stdout",
     "output_type": "stream",
     "text": [
      "2260    BANKNIFTY2351142800CE\n",
      "Name: tradingsymbol, dtype: object 2257    BANKNIFTY2351142600PE\n",
      "Name: tradingsymbol, dtype: object\n"
     ]
    }
   ],
   "source": [
    "# calculate BNF level\n",
    "symbol = \"NSE:NIFTY BANK\"\n",
    "BNF_LEVEL = zerodha.get_LTP(instruments=[symbol])['NSE:NIFTY BANK']['last_price']\n",
    "\n",
    "# rounding up or down\n",
    "if BNF_LEVEL % 100 >= 50:\n",
    "    ADJ_BNF_LEVEL = (BNF_LEVEL  +(100 - BNF_LEVEL  % 100))\n",
    "elif BNF_LEVEL % 100 < 50:\n",
    "    ADJ_BNF_LEVEL = BNF_LEVEL -(BNF_LEVEL % 100)\n",
    "\n",
    "\n",
    "#calculating CALL strike\n",
    "CALL_strike = ADJ_BNF_LEVEL + 100\n",
    "#fetching CALL option\n",
    "call_option = df[(df['instrument_type'].str.contains('CE')) & (df['strike'] == CALL_strike)]['tradingsymbol']\n",
    "#calculating PUT strike\n",
    "PUT_strike = ADJ_BNF_LEVEL - 100\n",
    "#fetching PUT option\n",
    "put_option = df[(df['instrument_type'].str.contains('PE')) & (df['strike'] == PUT_strike)]['tradingsymbol']\n"
   ]
  },
  {
   "cell_type": "code",
   "execution_count": null,
   "metadata": {},
   "outputs": [],
   "source": [
    "\n",
    "# calculate BNF level\n",
    "symbol = \"NSE:NIFTY BANK\"\n",
    "BNF_LEVEL = zerodha.get_LTP(instruments=[symbol])['NSE:NIFTY BANK']['last_price']\n",
    "\n",
    "# round to nearest level\n",
    "\n",
    "# create option symbols\n",
    "#pick symbol like %level%\n",
    "# sell options\n",
    "exit()\n",
    "straddle_obj.position_taker()\n",
    "\n",
    "kws.on_ticks   = zerodha.on_ticks\n",
    "kws.on_connect = zerodha.on_connect\n",
    "kws.on_close   = zerodha.on_close"
   ]
  }
 ],
 "metadata": {
  "kernelspec": {
   "display_name": "vstraddle",
   "language": "python",
   "name": "python3"
  },
  "language_info": {
   "codemirror_mode": {
    "name": "ipython",
    "version": 3
   },
   "file_extension": ".py",
   "mimetype": "text/x-python",
   "name": "python",
   "nbconvert_exporter": "python",
   "pygments_lexer": "ipython3",
   "version": "3.10.6"
  },
  "orig_nbformat": 4
 },
 "nbformat": 4,
 "nbformat_minor": 2
}
